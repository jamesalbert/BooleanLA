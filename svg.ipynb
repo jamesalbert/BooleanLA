{
 "cells": [
  {
   "cell_type": "code",
   "execution_count": null,
   "metadata": {
    "collapsed": true
   },
   "outputs": [],
   "source": [
    "text =\\\n",
    "'''\n",
    "<text x=\"15\" y=\"{1}\" fill=\"black\">{0}</text>\n",
    "'''\n",
    "\n",
    "diagram =\\\n",
    "'''\n",
    "<div style=\"position: relative\">\n",
    "<svg height=\"500\" width=\"1000\">\n",
    "{1}\n",
    "{0}\n",
    "</svg>\n",
    "</div>\n",
    "'''\n",
    "\n",
    "circle =\\\n",
    "'''\n",
    "<g>\n",
    "    <circle cx=\"{x}\" cy=\"{y}\" r=\"{radius}\" stroke=\"black\" stroke-width=\"1\" fill=\"white\" />\n",
    "    <text x=\"{text_x}\" y=\"{text_y}\" fill=\"red\">{content}</text>\n",
    "</g>\n",
    "'''\n",
    "\n",
    "line =\\\n",
    "'''\n",
    "<line x1=\"{x1}\" y1=\"{y1}\" x2=\"{x2}\" y2=\"{y2}\" style=\"stroke:rgb(255,0,0);stroke-width:2\" />\n",
    "'''"
   ]
  }
 ],
 "metadata": {
  "kernelspec": {
   "display_name": "Python 3",
   "language": "python",
   "name": "python3"
  },
  "language_info": {
   "codemirror_mode": {
    "name": "ipython",
    "version": 3
   },
   "file_extension": ".py",
   "mimetype": "text/x-python",
   "name": "python",
   "nbconvert_exporter": "python",
   "pygments_lexer": "ipython3",
   "version": "3.4.3"
  }
 },
 "nbformat": 4,
 "nbformat_minor": 0
}
