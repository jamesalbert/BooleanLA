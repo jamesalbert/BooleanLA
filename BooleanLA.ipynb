{
 "cells": [
  {
   "cell_type": "markdown",
   "metadata": {},
   "source": [
    "<h1>BooleanLA</h1>\n",
    "\n",
    "<h3>Setting up the environment</h3>\n",
    "\n",
    "<p>\n",
    "We need to setup a couple of things before defining our classes. `%run 'svg.ipynb'` imports a variety of HTML svg tags which we will use to construct our diagrams. These are just strings which we can input values into using python's str.format(). Next, itertools.combinations is imported which we use to map out a cross product from a set which will then be used for evaluating relations. The `space` variable holds a padding value which will space out each node in the diagram. And lastly, when a set is provided in the Main.ipynb, it can either be a set of sets, integers, or strings. The set's nodes are then stored and assigned a key equal to the node's value. In the case of integers and strings this works just fine. If a set of sets is provided, we can't use it to key each node (can't use lists as keys for dicts in python). validate(s) rids us of this problem, and now we can go onto defining our classes.\n",
    "</p>"
   ]
  },
  {
   "cell_type": "code",
   "execution_count": 13,
   "metadata": {
    "collapsed": true
   },
   "outputs": [],
   "source": [
    "%run 'svg.ipynb' # imports diagram, circle, text, line\n",
    "from itertools import permutations, chain\n",
    "\n",
    "space = 100 # spacing in between nodes\n",
    "def validate(s):\n",
    "    '''allows us to handle sets, integers, and strings'''\n",
    "    return str(s) if isinstance(s, list) else s"
   ]
  },
  {
   "cell_type": "markdown",
   "metadata": {},
   "source": [
    "<h3>The Node Class</h3>\n",
    "\n",
    "<p>\n",
    "A node is the most fundamental component in a diagram, yet it provides tons of information about the diagram and allows us to infer certain aspects of the plot as well. As svg, a node is comprised of a circle and text inside. The class itself contains the node's text/content/value, x and y positions for both the circle and text, radius of the circle (depending on content length), the node's lesser and greater nodes based on the relation, and whether it's a maximal or minimal node. It also holds node_plot which is just a dict holding information we send to str.format(). node_plot gets updated with the class's current information everytime we display the diagram (_repr_html_() gets called).\n",
    "</p>"
   ]
  },
  {
   "cell_type": "code",
   "execution_count": 6,
   "metadata": {
    "collapsed": true
   },
   "outputs": [],
   "source": [
    "class Node(object):\n",
    "    '''Node Class - represents a node in a given set'''\n",
    "    def __init__(self, x, y, content):\n",
    "        self.x = x\n",
    "        self.y = y\n",
    "        self.content = content\n",
    "        self.radius = 10+len(str(self.content))\n",
    "        self.node_plot = {}\n",
    "        self.lesser_nodes = []\n",
    "        self.greater_nodes = []\n",
    "        self.is_minimal = False\n",
    "        self.is_maximal = False\n",
    "    def update_node(self):\n",
    "        self.node_plot = {\n",
    "            'x': self.x,\n",
    "            'y': self.y,\n",
    "            'text_x': self.x-(len(str(self.content))*2.6), #-(self.radius/2),\n",
    "            'text_y': self.y+5, #+(self.radius/2),\n",
    "            'radius': self.radius,\n",
    "            'content': self.content\n",
    "        }\n",
    "    def __str__(self):\n",
    "        self.update_node()\n",
    "        return circle.format(**self.node_plot)"
   ]
  },
  {
   "cell_type": "markdown",
   "metadata": {},
   "source": [
    "<h3>The Relation Class</h3>\n",
    "\n",
    "<p>\n",
    "A relation represents a connection between two nodes which can be defined explicitly or implicitly. When two nodes are bound to a relation, a line is drawn between the two nodes in the diagram. This line may be omitted in a Hasse diagram given that there is a separate node between the two nodes in the relation. Like the Node class, Relation holds a line_plot dict which tracks the position of the two nodes and connects the line between them.\n",
    "</p>"
   ]
  },
  {
   "cell_type": "code",
   "execution_count": 1,
   "metadata": {
    "collapsed": true
   },
   "outputs": [],
   "source": [
    "class Relation(object):\n",
    "    '''Relation Class - represents a relation between two nodes'''\n",
    "    def __init__(self, a, b):\n",
    "        self.a = a\n",
    "        self.b = b\n",
    "        self.line_plot = None\n",
    "        self.show_relation = True\n",
    "    def update_relation(self):\n",
    "        self.line_plot = {\n",
    "            'x1': self.a.x,\n",
    "            'y1': self.a.y,\n",
    "            'x2': self.b.x,\n",
    "            'y2': self.b.y\n",
    "        }\n",
    "    def __str__(self):\n",
    "        if self.show_relation:\n",
    "            self.update_relation()\n",
    "            return line.format(**self.line_plot)+str(self.a)+str(self.b)\n",
    "        else:\n",
    "            return str()"
   ]
  },
  {
   "cell_type": "code",
   "execution_count": 2,
   "metadata": {
    "collapsed": true
   },
   "outputs": [],
   "source": [
    "class Sheet(object):\n",
    "    def __init__(self):\n",
    "        self.diagrams = []\n",
    "    \n",
    "    def add_diagram(self, diagram):\n",
    "        self.diagrams.append(diagram)\n",
    "        \n",
    "    def _repr_html_(self):\n",
    "        diagram_svgs = []\n",
    "        for i, diagram in enumerate(self.diagrams):\n",
    "            diagram_svgs.append(diagram._repr_html_())\n",
    "        return ''.join(diagram_svgs)"
   ]
  },
  {
   "cell_type": "markdown",
   "metadata": {},
   "source": [
    "<h3>The Diagram Class</h3>\n",
    "\n",
    "<p>\n",
    "The Diagram class first and foremost contains a dict of nodes (key is the node content, value is the Node object) and a list of Relation objects. Diagram can be used to create a generic diagram (for example, a digraph), or subclassed to create something more specific (like a Hasse Diagram). Diagram contains the title, the set of nodes, an is_relation variable which may contain a function (used when an implicit relation is specified), and an rset list variable which may contain a list of relations (used when an explicit relation is specified). create_nodes() is called in __init__ in order to create and store the Node objects within the nodes list.\n",
    "</p>\n",
    "\n",
    "<h4>Formatting</h4>\n",
    "<p>\n",
    "Before explaining, here is an example scenario:<br>\n",
    "\n",
    "<code>\n",
    "S = ['a', 'b', 'c', 'd']\n",
    "R = [ ('a', 'b'), ('b', 'c'), ('c', 'd') ]\n",
    "</code>\n",
    "<br>\n",
    "\n",
    "S is our node set and R is our explicit relation set. A diagram representing these nodes and their relations could be configured/positioned in an infinite amount of ways; which one is the best? In some cases (like this one), it can be assumed that the nodes should be evenly distributed in a square shape, but this isn't so easy when dealing with many more nodes and more complex relations. So instead of defining our set of nodes that way S defines them, use the following format:<br>\n",
    "\n",
    "<code>\n",
    "F = {\n",
    "    1: ['a', 'b'],\n",
    "    2: ['c', 'd']\n",
    "}</code><br><br>\n",
    "\n",
    "This says, \"I want nodes a and b in the leftmost column, and nodes c and d in the rightmost column\". Here's what the output looks like:<br>\n",
    "\n",
    "<!--<img src=\"http://i.imgur.com/HtKWYtG.png\" /><br>-->\n",
    "<img src=\"images/example1-1.png\" /><br>\n",
    "\n",
    "Another example:<br>\n",
    "<code>\n",
    "F = {\n",
    "    1: ['a', 'b'],\n",
    "    2: ['c'],\n",
    "    3: ['d']\n",
    "}\n",
    "</code><br>\n",
    "\n",
    "This says, \"Nodes a and b are in the leftmost column, node c is in the middle, and node d is to the right.\" Output:<br>\n",
    "\n",
    "<!--<img src=\"http://i.imgur.com/FSWG3Oq.png\" /><br>-->\n",
    "<img src=\"images/example1-2.png\" /><br>\n",
    "</p>\n",
    "\n",
    "<h4>self.path_exists</h4>\n",
    "<p>\n",
    "self.path_exists takes two parameters, a set of nodes and a target node. This method recursively searches for target_node through the given set of nodes, and for each node, searches through its greater_nodes member list. And from that greater_nodes list the same operation is performed until target_node or a deadend is reached. In other words, this method returns true if there exists a path from a set of nodes to target_node (via each node's greater_nodes member list), and otherwise returns false. \n",
    "</p>\n",
    "\n",
    "<h4>self.create_nodes</h4>\n",
    "<p>\n",
    "self.create_nodes does only one thing: iterate over nset (the set passed to the constructor), creates a Node object from each node, and stores that Node object inside Diagram's nodes list.\n",
    "</p>\n",
    "\n",
    "<h4>self.format_nodes</h4>\n",
    "<p>\n",
    "self.format_nodes loops over self.nset and applies the key to each Node's x member variable. \n",
    "</p>"
   ]
  },
  {
   "cell_type": "code",
   "execution_count": 8,
   "metadata": {
    "collapsed": true
   },
   "outputs": [],
   "source": [
    "class Diagram(object):\n",
    "    '''Diagram Class - abstract class for creating visual\n",
    "       representations of nodes and their relations'''\n",
    "    def __init__(self, title, nset):\n",
    "        self.nodes = {}\n",
    "        self.relations = []\n",
    "        self.title = text.format(title, 15)\n",
    "        self.nset = nset\n",
    "        self.is_relation = None\n",
    "        self.rset = None\n",
    "        self.create_nodes()\n",
    "    def path_exists(self, node, target_node):\n",
    "        if not node.greater_nodes:\n",
    "            return\n",
    "        areflexive_nodes = node.greater_nodes.copy()\n",
    "        if node in areflexive_nodes:\n",
    "            areflexive_nodes.remove(node)\n",
    "        if target_node in areflexive_nodes:\n",
    "            areflexive_nodes.remove(target_node)\n",
    "        for greater_node in areflexive_nodes:\n",
    "            if target_node in greater_node.greater_nodes:\n",
    "                return True\n",
    "            self.path_exists(greater_node, target_node)\n",
    "        return False\n",
    "    def create_nodes(self):\n",
    "        '''create and store Node objects from nset'''\n",
    "        for content in list(chain(*self.nset.values())):\n",
    "            self.nodes[validate(content)] = Node(0, space, content)\n",
    "    def create_relations(self):\n",
    "        '''relate two nodes'''\n",
    "        pass\n",
    "    def format_nodes(self):\n",
    "        '''position nodes based on nset structure'''\n",
    "        for column, nodes in self.nset.items():\n",
    "            for content in nodes:\n",
    "                self.nodes[validate(content)].x = column*space"
   ]
  },
  {
   "cell_type": "markdown",
   "metadata": {},
   "source": [
    "<h3>The PartialOrder Class</h3>\n",
    "\n",
    "<p>\n",
    "The PartialOrder Class, like the Diagram class, is abstract and is used to add functionality to a particular diagram. By subclassing PartialOrder, a find_extrema method is inherited.\n",
    "</p>\n",
    "\n",
    "<h4>self.find_extrema</h4>\n",
    "<p>\n",
    "In a partial order, particular nodes are either minimals or maximals. Node X is a minimal if there isn't a node that relates to it. Conversely, node X is a maximal if X doesn't relate to any other node. self.find_extrema will traverse through Diagram's list of nodes and set the Node.is_maximal, Node.is_minimal member variables appropriately.\n",
    "</p>"
   ]
  },
  {
   "cell_type": "code",
   "execution_count": 9,
   "metadata": {
    "collapsed": true
   },
   "outputs": [],
   "source": [
    "class PartialOrder(object):\n",
    "    '''PartialOrder Class - abstract class which provides additional\n",
    "       functionality to Diagrams'''\n",
    "    def find_extrema(self):\n",
    "        '''find minimals and maximals in partial order'''\n",
    "        for node in self.nodes.values():\n",
    "            lines = self.title.count('/text') + 1\n",
    "            content = validate(node.content)\n",
    "            if node.is_minimal:\n",
    "                self.title += text.format('{} is a minimal.'.format(content), 15 * lines)\n",
    "            if node.is_maximal:\n",
    "                self.title += text.format('{} is a maximal.'.format(content), 15 * lines)"
   ]
  },
  {
   "cell_type": "markdown",
   "metadata": {},
   "source": [
    "<h3>The Hasse Class</h3>\n",
    "\n",
    "<p>\n",
    "As the class profile suggests, the Hasse class is a PartialOrder Diagram. This is a base class for HasseExplicit and HasseImplicit diagrams (which we'll discuss later). If you don't know what a Hasse diagram is, refer to the <a href=\"http://wikipedia.com/HasseDiagram\">wiki</a>.\n",
    "</p>\n",
    "\n",
    "<h4>self.adjust_node</h4>\n",
    "<p>\n",
    "While in the process of comparing and positioning nodes, visual representations of relations become incorrect if the previously compared/positioned nodes aren't accounted for. For example, let's say we have nodes a, b, and c. Now, a relates to b, and b relates to c. For context, here's how the Hasse diagram should look like assuming we formatted each node to separate columns:\n",
    "\n",
    "<img src=\"images/example1-3.png\" />\n",
    "\n",
    "Here's what it looks like without self.adjust_node'ing our nodes:\n",
    "\n",
    "<img src=\"images/example1-4.png\" />\n",
    "\n",
    "Long story short, self.adjust_node recursively adjusts each node and each nodes' lesser nodes in order to compensate for Hasse precedence.\n",
    "</p>\n",
    "\n",
    "<h4>self.determine_relations</h4>\n",
    "<p>\n",
    "In a Hasse diagram, certain relation paths between two nodes are omitted if there is a separate node between that relation. Consider the example in self.adjust_nodes, only let's explicitly state that a relates to c. The path representing the relation between a and c will NOT be shown and here's why: a relates to b and b relates to c. There is a separate node, b, which connects to a and c. This method (name subject to change) uses the recursive method self.path_exists to check if there are relations analogue to this example. If there is, the Relation.show_relation member variable will be set to False.\n",
    "</p>\n",
    "\n",
    "<h4>self.set_precedence</h4>\n",
    "<p>\n",
    "This method is relatively simple and uses methods explained above. Recall that if a relates to b, a is considered lesser than b, and b is considered greater than a. So what self.set_precedence does is iterates over Diagram.relations, generally speaking inserts a into b's lesser_nodes list and b into a's greater_nodes list. After all the greater/lesser_nodes lists are updated, self.adjust_nodes is called which positions the nodes according to their precedence.\n",
    "</p>\n",
    "\n",
    "<h4>self.to_hasse</h4>\n",
    "<p>\n",
    "self.to_hasse is the glue method that executes all necessary functions to create the Hasse diagram. In order, what happens is relations are analyzed and created, precedence is set, certain paths get omitted, the visual format is set, the extrema are found, and the diagram is converted to a string and returned.\n",
    "</p>\n",
    "\n",
    "<h4>self._repr_html_</h4>\n",
    "<p>\n",
    "All this method does is return self.to_hasse() which will be displayed as a Hasse diagram in ipynb.\n",
    "</p>"
   ]
  },
  {
   "cell_type": "code",
   "execution_count": 10,
   "metadata": {
    "collapsed": true
   },
   "outputs": [],
   "source": [
    "class Hasse(PartialOrder, Diagram):\n",
    "    '''\n",
    "    Hasse Class - creates a Hasse diagram from a given a node set\n",
    "    '''\n",
    "    def __init__(self, title, nset):\n",
    "        super().__init__(title, nset)\n",
    "    def adjust_node(self, node):\n",
    "        '''adjust y position for Hasse precedence'''\n",
    "        if not node.greater_nodes:\n",
    "            node.is_maximal = True\n",
    "        if not node.lesser_nodes:\n",
    "            node.is_minimal = True\n",
    "            return\n",
    "        for lesser_node in node.lesser_nodes:\n",
    "            if lesser_node.content == node.content:\n",
    "                continue\n",
    "            lesser_node.y = node.y + 50\n",
    "            self.adjust_node(lesser_node)\n",
    "    def determine_relations(self):\n",
    "        '''determine which relations to show once created'''\n",
    "        for relation in self.relations:\n",
    "            if self.path_exists(relation.a, relation.b):\n",
    "                relation.show_relation = False\n",
    "    def set_precedence(self):\n",
    "        '''position nodes to represent precedence'''\n",
    "        for relation in self.relations:\n",
    "            self.nodes[validate(relation.a.content)].greater_nodes.append(relation.b)\n",
    "            self.nodes[validate(relation.b.content)].lesser_nodes.append(relation.a)\n",
    "        for node in list(self.nodes.values())[::-1]:\n",
    "            self.adjust_node(node)\n",
    "    def to_hasse(self):\n",
    "        '''create Hasse diagram from given sets'''\n",
    "        self.create_relations()\n",
    "        self.set_precedence()\n",
    "        self.determine_relations()\n",
    "        self.format_nodes()\n",
    "        self.find_extrema()\n",
    "        relations_svg = ''.join(map(str, self.relations))\n",
    "        return diagram.format(relations_svg, self.title)\n",
    "    def _repr_html_(self):\n",
    "        '''svg representation'''\n",
    "        return self.to_hasse()"
   ]
  },
  {
   "cell_type": "markdown",
   "metadata": {},
   "source": [
    "<h3>The HasseImplicit Class</h3>\n",
    "\n",
    "<p>\n",
    "HasseImplicit (as well as HasseExplicit which is discussed below) are two sides of the same coin. The only difference between these two classes is the way we define the relation between nodes. In this case, we pass a method that takes two parameters and returns a boolean value based on some sort of comparison between the parameters (a is_subset function for example). The method passed will be assigned to self.is_relation and used later.\n",
    "</p>\n",
    "\n",
    "<h4>self.create_relations</h4>\n",
    "<p>\n",
    "In a sense, we create an explicit relation set by first creating a list of all possible sets between all given nodes (e.g. given a set S={1,2,3}, we create R={(1,2), (1,3), (2,3)}). Then we call self.is_relation on each of these sets and then append to self.relations Relation objects representing the sets that return True.\n",
    "</p>"
   ]
  },
  {
   "cell_type": "code",
   "execution_count": 11,
   "metadata": {
    "collapsed": true
   },
   "outputs": [],
   "source": [
    "class HasseImplicit(Hasse):\n",
    "    '''\n",
    "    Hasse Implicit Class - creates a Hasse diagram from a given a node set\n",
    "    \n",
    "    the relations between nodes are implicity set (is_subset, is_less_than, ...)\n",
    "    '''\n",
    "    def __init__(self, title, nset, is_relation):\n",
    "        super().__init__(title, nset)\n",
    "        self.rset = []\n",
    "        self.is_relation = is_relation\n",
    "    def create_relations(self):\n",
    "        for pair in permutations(list(chain(*self.nset.values())), 2):\n",
    "            if self.is_relation(*pair):\n",
    "                pair0 = validate(pair[0])\n",
    "                pair1 = validate(pair[1])\n",
    "                relation = Relation(self.nodes[pair0], self.nodes[pair1])\n",
    "                self.relations.append(relation)"
   ]
  },
  {
   "cell_type": "markdown",
   "metadata": {},
   "source": [
    "<h3>The HasseExplicit Class</h3>\n",
    "\n",
    "<p>\n",
    "HasseExplicit exerts the same bahavior as HasseImplicit minus checking for a relation. A relation set is passed to the constructor opposed to a method which is used to check for relations.\n",
    "</p>\n",
    "\n",
    "<h4>self.create_relations</h4>\n",
    "<p>\n",
    "This method iterates over the given relation set, creates Relation objects for each one, then appends the relations to self.relations.\n",
    "</p>"
   ]
  },
  {
   "cell_type": "code",
   "execution_count": 12,
   "metadata": {
    "collapsed": true
   },
   "outputs": [],
   "source": [
    "class HasseExplicit(Hasse):\n",
    "    '''\n",
    "    Hasse Explicit Class - creates a Hasse diagram from a given a node set\n",
    "    \n",
    "    the relations between nodes are explicitly set ([(1, 2), (2, 3), ...])\n",
    "    '''\n",
    "    def __init__(self, title, nset, rset):\n",
    "        super().__init__(title, nset)\n",
    "        self.rset = rset\n",
    "    def create_relations(self):\n",
    "        for r in self.rset:\n",
    "            relation = Relation(self.nodes[r[0]], self.nodes[r[1]])\n",
    "            self.relations.append(relation)"
   ]
  }
 ],
 "metadata": {
  "kernelspec": {
   "display_name": "Python 3",
   "language": "python",
   "name": "python3"
  },
  "language_info": {
   "codemirror_mode": {
    "name": "ipython",
    "version": 3
   },
   "file_extension": ".py",
   "mimetype": "text/x-python",
   "name": "python",
   "nbconvert_exporter": "python",
   "pygments_lexer": "ipython3",
   "version": "3.4.3"
  }
 },
 "nbformat": 4,
 "nbformat_minor": 0
}
